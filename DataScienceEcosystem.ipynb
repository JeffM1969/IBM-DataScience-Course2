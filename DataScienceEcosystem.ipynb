{
 "cells": [
  {
   "cell_type": "markdown",
   "id": "91314116-8f5d-48a4-86f1-07920504bb51",
   "metadata": {
    "tags": []
   },
   "source": [
    "# Data Science Tools and Ecosystem #"
   ]
  },
  {
   "cell_type": "markdown",
   "id": "e117d439-f27b-4354-82ba-bb3407825d92",
   "metadata": {
    "tags": []
   },
   "source": [
    "# In this notebook I summarise Data Science Tools and the Data Science Ecosystem.#"
   ]
  },
  {
   "cell_type": "markdown",
   "id": "af3848a6-8a09-4f2f-8998-77a3e1d856ed",
   "metadata": {
    "tags": []
   },
   "source": [
    "## Author ##\n",
    "Jeff Malone"
   ]
  },
  {
   "cell_type": "markdown",
   "id": "d6740d10-0032-44f1-8280-54b92b095ff8",
   "metadata": {},
   "source": [
    "In this notebook I provide a summary of Data Science tools and the Data Science Ecosystem"
   ]
  },
  {
   "cell_type": "markdown",
   "id": "a0f2e3a0-ef64-4270-8276-51c5ce25c449",
   "metadata": {},
   "source": [
    "** Objectives **\n",
    "* Popular Languages for Data Science\n",
    "* Popular Data Science Libraries\n",
    "* Popular Data Science Tools\n",
    "* Evaluating Simple Arithmetic Expressions in Python"
   ]
  },
  {
   "cell_type": "markdown",
   "id": "59208712-0ba2-48e7-872c-0aa9b4a4792f",
   "metadata": {
    "tags": []
   },
   "source": [
    "Some languages that Data Scientists use are:\n",
    "1. Python\n",
    "2. R\n",
    "3. SQL\n",
    "4. C++"
   ]
  },
  {
   "cell_type": "markdown",
   "id": "e51df58e-1d0e-4b82-b762-01fa0e81af3a",
   "metadata": {},
   "source": [
    "Some of the commonly used libraries used by Data Scientists are:\n",
    "1. NumPy\n",
    "2. TensorFlow\n",
    "3. SciPy\n",
    "4. Seaborn"
   ]
  },
  {
   "cell_type": "markdown",
   "id": "4d8aa6fc-2458-42c2-bdfe-7907d9fc693b",
   "metadata": {},
   "source": [
    "Data Science Tools|\n",
    "-------------------\n",
    "Python\n",
    "R\n",
    "Apache Hadoop"
   ]
  },
  {
   "cell_type": "markdown",
   "id": "bc81c92e-326a-4ed2-b1bc-be5cdd98820d",
   "metadata": {},
   "source": [
    "### Below are a few examples of evaluating arithmetic expressions in Python ###"
   ]
  },
  {
   "cell_type": "code",
   "execution_count": 1,
   "id": "0bd140dd-fed5-4ae5-a84a-d8787ac838fa",
   "metadata": {
    "tags": []
   },
   "outputs": [
    {
     "data": {
      "text/plain": [
       "17"
      ]
     },
     "execution_count": 1,
     "metadata": {},
     "output_type": "execute_result"
    }
   ],
   "source": [
    "# this is a simple arithmetic expression to multiply then add integers\n",
    "(3*4) + 5"
   ]
  },
  {
   "cell_type": "code",
   "execution_count": 2,
   "id": "7501bee2-a7de-4e9a-bc92-4dcd28f40fc9",
   "metadata": {
    "tags": []
   },
   "outputs": [
    {
     "data": {
      "text/plain": [
       "22.22222222222222"
      ]
     },
     "execution_count": 2,
     "metadata": {},
     "output_type": "execute_result"
    }
   ],
   "source": [
    "# This will convert 200 minutes into hours by diving by 60\n",
    "200/9"
   ]
  }
 ],
 "metadata": {
  "kernelspec": {
   "display_name": "Python",
   "language": "python",
   "name": "conda-env-python-py"
  },
  "language_info": {
   "codemirror_mode": {
    "name": "ipython",
    "version": 3
   },
   "file_extension": ".py",
   "mimetype": "text/x-python",
   "name": "python",
   "nbconvert_exporter": "python",
   "pygments_lexer": "ipython3",
   "version": "3.7.12"
  }
 },
 "nbformat": 4,
 "nbformat_minor": 5
}
